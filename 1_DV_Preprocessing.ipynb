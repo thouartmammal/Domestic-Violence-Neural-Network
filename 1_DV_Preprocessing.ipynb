{
 "cells": [
  {
   "cell_type": "code",
   "execution_count": 1,
   "id": "5dd59016-d421-4dd5-9515-1a06d503235c",
   "metadata": {},
   "outputs": [
    {
     "name": "stderr",
     "output_type": "stream",
     "text": [
      "/home/hle12/miniforge3/lib/python3.12/site-packages/tqdm/auto.py:21: TqdmWarning: IProgress not found. Please update jupyter and ipywidgets. See https://ipywidgets.readthedocs.io/en/stable/user_install.html\n",
      "  from .autonotebook import tqdm as notebook_tqdm\n"
     ]
    }
   ],
   "source": [
    "import kagglehub\n",
    "import os\n",
    "import pandas as pd\n",
    "import numpy as np"
   ]
  },
  {
   "cell_type": "code",
   "execution_count": 2,
   "id": "413ea0a5-f115-4df9-b6ac-200ebf69901b",
   "metadata": {},
   "outputs": [],
   "source": [
    "# Download the dataset\n",
    "path = kagglehub.dataset_download(\"fahmidachowdhury/domestic-violence-against-women\")\n",
    "\n",
    "# List files in the directory to find the CSV\n",
    "csv_files = [f for f in os.listdir(path) if f.endswith(\".csv\")]\n",
    "\n",
    "if not csv_files:\n",
    "    raise FileNotFoundError(f\"No CSV files found in {path}\")\n",
    "\n",
    "# Construct path to the CSV file\n",
    "csv_path = os.path.join(path, csv_files[0])\n",
    "\n",
    "# Load the CSV into a DataFrame\n",
    "dataframe = pd.read_csv(csv_path)"
   ]
  },
  {
   "cell_type": "code",
   "execution_count": 3,
   "id": "271535e1-1db5-4fc9-aeb5-d0fb18e3433b",
   "metadata": {},
   "outputs": [
    {
     "name": "stdout",
     "output_type": "stream",
     "text": [
      "   SL. No  Age Education  Employment   Income Marital status  Violence \n",
      "0       1   30  secondary  unemployed       0         married       yes\n",
      "1       2   47   tertiary  unemployed       0         married        no\n",
      "2       3   24   tertiary  unemployed       0        unmarred        no\n",
      "3       4   22   tertiary  unemployed       0        unmarred        no\n",
      "4       5   50    primary  unemployed       0         married       yes\n"
     ]
    }
   ],
   "source": [
    "print(dataframe.head())"
   ]
  },
  {
   "cell_type": "markdown",
   "id": "7a20ed50-dafc-479c-8f5f-da25ed6f4e3d",
   "metadata": {},
   "source": [
    "# Checking the reliability of data and data cleaning\n",
    "\n",
    "<b> Interesting observation(s): </b>\n",
    "\n",
    "⭐ 75.22% of the dataset contains are of non-violent households, indicating an class-unbalanced.\n",
    "\n",
    "⭐ Around 86.08% of records contain an income of 0. There are many reasons why this may be the case: \n",
    "- Missing income data are default to 0\n",
    "- There may be biases during the retrieval of data\n",
    "- Domestic violence are more easily recorded among low-income households.\n",
    "\n",
    "<b> Change(s) made: </b>\n",
    "\n",
    "⭐ Remove leading and trailing spaces of String data and column labels\n",
    "\n",
    "⭐ Added a column 'Age group' that group data in the column 'Age' into intervals of 10."
   ]
  },
  {
   "cell_type": "code",
   "execution_count": 5,
   "id": "528dad12-3b48-4f54-a99b-5a8e04d0ec29",
   "metadata": {},
   "outputs": [
    {
     "name": "stdout",
     "output_type": "stream",
     "text": [
      "['SL. No', 'Age', 'Education ', 'Employment ', 'Income', 'Marital status ', 'Violence ']\n"
     ]
    }
   ],
   "source": [
    "# Print out column labels for checking\n",
    "\n",
    "print(dataframe.columns.tolist())"
   ]
  },
  {
   "cell_type": "code",
   "execution_count": 6,
   "id": "01918566-fc2a-4252-ad9d-a8cae41dabd5",
   "metadata": {},
   "outputs": [
    {
     "name": "stdout",
     "output_type": "stream",
     "text": [
      "['SL. No', 'Age', 'Education', 'Employment', 'Income', 'Marital status', 'Violence']\n"
     ]
    }
   ],
   "source": [
    "# Noticeably, some of the column names contain trailing white spaces which we will remove.\n",
    "\n",
    "dataframe.columns = dataframe.columns.str.strip()\n",
    "print(dataframe.columns.tolist())"
   ]
  },
  {
   "cell_type": "code",
   "execution_count": 7,
   "id": "74779a14-971e-4426-a555-57872ea7d3b1",
   "metadata": {},
   "outputs": [
    {
     "data": {
      "text/plain": [
       "SL. No            0\n",
       "Age               0\n",
       "Education         0\n",
       "Employment        0\n",
       "Income            0\n",
       "Marital status    0\n",
       "Violence          0\n",
       "dtype: int64"
      ]
     },
     "execution_count": 7,
     "metadata": {},
     "output_type": "execute_result"
    }
   ],
   "source": [
    "# Count NA values in each column\n",
    "dataframe.isna().sum()"
   ]
  },
  {
   "cell_type": "code",
   "execution_count": 8,
   "id": "9576cc4d-e5ec-4732-91c4-03b2e833f251",
   "metadata": {},
   "outputs": [],
   "source": [
    "# Make SL. No my index column\n",
    "\n",
    "dataframe = dataframe.set_index('SL. No')"
   ]
  },
  {
   "cell_type": "code",
   "execution_count": 9,
   "id": "67084017-5a06-4838-8758-4429652a5192",
   "metadata": {},
   "outputs": [
    {
     "data": {
      "text/plain": [
       "Age                int64\n",
       "Education         object\n",
       "Employment        object\n",
       "Income             int64\n",
       "Marital status    object\n",
       "Violence          object\n",
       "dtype: object"
      ]
     },
     "execution_count": 9,
     "metadata": {},
     "output_type": "execute_result"
    }
   ],
   "source": [
    "# Ensure consistency of data type of each column\n",
    "\n",
    "dataframe.dtypes"
   ]
  },
  {
   "cell_type": "code",
   "execution_count": 10,
   "id": "63a8e4c2-e08f-4cda-a579-e51b26e79a8d",
   "metadata": {},
   "outputs": [
    {
     "name": "stdout",
     "output_type": "stream",
     "text": [
      "--- Education ---\n",
      "['secondary' 'tertiary' 'primary' 'none']\n",
      "\n",
      "--- Employment ---\n",
      "['unemployed' 'semi employed' 'employed' 'employed ']\n",
      "\n",
      "--- Marital status ---\n",
      "['married' 'unmarred']\n",
      "\n",
      "--- Violence ---\n",
      "['yes' 'no']\n",
      "\n"
     ]
    }
   ],
   "source": [
    "# Check unique values of columns where the datatype is String\n",
    "string_cols = dataframe.select_dtypes(include='object').columns\n",
    "\n",
    "# Print out the unique values of these columns\n",
    "for col in string_cols:\n",
    "    print(f\"--- {col} ---\")\n",
    "    print(dataframe[col].unique())\n",
    "    print()"
   ]
  },
  {
   "cell_type": "code",
   "execution_count": 11,
   "id": "c0ee4df4-28b9-4697-8ebe-c2dbb3cb3e60",
   "metadata": {},
   "outputs": [
    {
     "name": "stdout",
     "output_type": "stream",
     "text": [
      "--- Education ---\n",
      "['secondary' 'tertiary' 'primary' 'none']\n",
      "\n",
      "--- Employment ---\n",
      "['unemployed' 'semi employed' 'employed']\n",
      "\n",
      "--- Marital status ---\n",
      "['married' 'unmarred']\n",
      "\n",
      "--- Violence ---\n",
      "['yes' 'no']\n",
      "\n"
     ]
    }
   ],
   "source": [
    "# Noticeably, some of the data contains trailing spaces which we will remove. \n",
    "\n",
    "# Remove trailing spaces for String data type\n",
    "dataframe = dataframe.apply(lambda x: x.str.strip() if x.dtype == 'object' else x)\n",
    "\n",
    "string_cols = dataframe.select_dtypes(include='object').columns\n",
    "\n",
    "# Present the new unique values of String columns\n",
    "for col in string_cols:\n",
    "    print(f\"--- {col} ---\")\n",
    "    print(dataframe[col].unique())\n",
    "    print()"
   ]
  },
  {
   "cell_type": "code",
   "execution_count": 12,
   "id": "d88643a9-61cb-4407-bb35-5cfe25437056",
   "metadata": {},
   "outputs": [
    {
     "name": "stdout",
     "output_type": "stream",
     "text": [
      "          Count per categories  Percentage\n",
      "Violence                                  \n",
      "no                         261       75.22\n",
      "yes                         86       24.78\n"
     ]
    }
   ],
   "source": [
    "# Check if the dataset is class-balanced (roughly equal number of violent and non-violent relationship)\n",
    "# Result shows that there are more non-violent data than violent.\n",
    "\n",
    "# Calculate the total number of data\n",
    "total_data = len(dataframe['Violence'])\n",
    "\n",
    "# Calculate total number of yes and no in the Violence column\n",
    "count_per_categories = dataframe['Violence'].value_counts()\n",
    "\n",
    "# Calculate the percentage\n",
    "category_percentage = (count_per_categories / total_data) * 100\n",
    "\n",
    "# Present the percentage in a DataFrame\n",
    "violence_statistics = pd.DataFrame({\n",
    "    'Count per categories': count_per_categories,\n",
    "    'Percentage': category_percentage.round(2)  \n",
    "})\n",
    "\n",
    "print(violence_statistics)"
   ]
  },
  {
   "cell_type": "code",
   "execution_count": 13,
   "id": "41f718d5-26d0-42fe-97af-800d5d2cb6ee",
   "metadata": {},
   "outputs": [
    {
     "data": {
      "text/html": [
       "<div>\n",
       "<style scoped>\n",
       "    .dataframe tbody tr th:only-of-type {\n",
       "        vertical-align: middle;\n",
       "    }\n",
       "\n",
       "    .dataframe tbody tr th {\n",
       "        vertical-align: top;\n",
       "    }\n",
       "\n",
       "    .dataframe thead th {\n",
       "        text-align: right;\n",
       "    }\n",
       "</style>\n",
       "<table border=\"1\" class=\"dataframe\">\n",
       "  <thead>\n",
       "    <tr style=\"text-align: right;\">\n",
       "      <th></th>\n",
       "      <th>Age</th>\n",
       "      <th>Income</th>\n",
       "    </tr>\n",
       "  </thead>\n",
       "  <tbody>\n",
       "    <tr>\n",
       "      <th>count</th>\n",
       "      <td>347.0</td>\n",
       "      <td>347.0</td>\n",
       "    </tr>\n",
       "    <tr>\n",
       "      <th>mean</th>\n",
       "      <td>31.4</td>\n",
       "      <td>2110.7</td>\n",
       "    </tr>\n",
       "    <tr>\n",
       "      <th>std</th>\n",
       "      <td>9.6</td>\n",
       "      <td>5743.3</td>\n",
       "    </tr>\n",
       "    <tr>\n",
       "      <th>min</th>\n",
       "      <td>15.0</td>\n",
       "      <td>0.0</td>\n",
       "    </tr>\n",
       "    <tr>\n",
       "      <th>25%</th>\n",
       "      <td>23.0</td>\n",
       "      <td>0.0</td>\n",
       "    </tr>\n",
       "    <tr>\n",
       "      <th>50%</th>\n",
       "      <td>30.0</td>\n",
       "      <td>0.0</td>\n",
       "    </tr>\n",
       "    <tr>\n",
       "      <th>75%</th>\n",
       "      <td>39.5</td>\n",
       "      <td>0.0</td>\n",
       "    </tr>\n",
       "    <tr>\n",
       "      <th>max</th>\n",
       "      <td>60.0</td>\n",
       "      <td>35000.0</td>\n",
       "    </tr>\n",
       "  </tbody>\n",
       "</table>\n",
       "</div>"
      ],
      "text/plain": [
       "         Age   Income\n",
       "count  347.0    347.0\n",
       "mean    31.4   2110.7\n",
       "std      9.6   5743.3\n",
       "min     15.0      0.0\n",
       "25%     23.0      0.0\n",
       "50%     30.0      0.0\n",
       "75%     39.5      0.0\n",
       "max     60.0  35000.0"
      ]
     },
     "execution_count": 13,
     "metadata": {},
     "output_type": "execute_result"
    }
   ],
   "source": [
    "# Obtain the data information of numeric columns including min, max, mode, average\n",
    "# An interesting observation seen is that the Q1, median and Q3 for the Income column is zero\n",
    "# This indicates that most households in the dataset is low-income, as shown below.\n",
    "\n",
    "dataframe.describe().round(1)"
   ]
  },
  {
   "cell_type": "code",
   "execution_count": 14,
   "id": "fe681836-618f-4a36-b98a-f89354934608",
   "metadata": {},
   "outputs": [
    {
     "name": "stdout",
     "output_type": "stream",
     "text": [
      "        Count  Percentage\n",
      "Income                   \n",
      "0         272       86.08\n",
      "5000        8        2.53\n",
      "3000        6        1.90\n",
      "2000        5        1.58\n",
      "22000       5        1.58\n",
      "4000        4        1.27\n",
      "15000       4        1.27\n",
      "6000        4        1.27\n",
      "2500        4        1.27\n",
      "10000       4        1.27\n"
     ]
    }
   ],
   "source": [
    "# Calculate the percentage of income level that made up the top 10 income level based on frequency.\n",
    "\n",
    "# Calculate the total number of each income level for the top 10 income level.\n",
    "count_per_top_10_income = dataframe['Income'].value_counts().head(10)\n",
    "\n",
    "# Calculate the total number of data points\n",
    "income_count = count_per_top_10_income.sum()\n",
    "\n",
    "# Calculate the income percentage\n",
    "income_percentage = (count_per_top_10_income / income_count) * 100\n",
    "\n",
    "# Create a DataFrame of the data\n",
    "income_summary = pd.DataFrame({\n",
    "    'Count': count_per_top_10_income,\n",
    "    'Percentage': income_percentage.round(2)  \n",
    "})\n",
    "\n",
    "print(income_summary)"
   ]
  },
  {
   "cell_type": "code",
   "execution_count": 15,
   "id": "c30fab52-b7fb-47b0-a78b-942a0ffdd0fe",
   "metadata": {},
   "outputs": [],
   "source": [
    "# Because age is continuous, it might be helpful to the model to group entries according to age groups\n",
    "# Note: it has been previously established that the minimum age is 15 and maximum age is 60.\n",
    "\n",
    "# Define the bin edges for age groups (ages 15 to 65 in 10-year intervals)\n",
    "bin_edges = [15, 25, 35, 45, 55, 65]\n",
    "\n",
    "# Define the labels for each corresponding age group\n",
    "age_groups = [\n",
    "    \"15 ≤ age < 25\",\n",
    "    \"25 ≤ age < 35\",\n",
    "    \"35 ≤ age < 45\",\n",
    "    \"45 ≤ age < 55\",\n",
    "    \"55 ≤ age < 65\"\n",
    "]\n",
    "\n",
    "# Create a new column 'Age group' by binning the 'Age' column into defined intervals\n",
    "# 'right=False' means the intervals are left-inclusive, i.e., [15,25) includes 15 but not 25\n",
    "dataframe['Age group'] = pd.cut(dataframe['Age'], bins=bin_edges, labels=age_groups, right=False)"
   ]
  },
  {
   "cell_type": "code",
   "execution_count": 16,
   "id": "3e089fcb-f6ad-46f7-88ae-78443047de19",
   "metadata": {},
   "outputs": [
    {
     "data": {
      "text/html": [
       "<style type=\"text/css\">\n",
       "</style>\n",
       "<table id=\"T_cff6b\">\n",
       "  <thead>\n",
       "    <tr>\n",
       "      <th class=\"blank level0\" >&nbsp;</th>\n",
       "      <th id=\"T_cff6b_level0_col0\" class=\"col_heading level0 col0\" >Age</th>\n",
       "      <th id=\"T_cff6b_level0_col1\" class=\"col_heading level0 col1\" >Education</th>\n",
       "      <th id=\"T_cff6b_level0_col2\" class=\"col_heading level0 col2\" >Employment</th>\n",
       "      <th id=\"T_cff6b_level0_col3\" class=\"col_heading level0 col3\" >Income</th>\n",
       "      <th id=\"T_cff6b_level0_col4\" class=\"col_heading level0 col4\" >Marital status</th>\n",
       "      <th id=\"T_cff6b_level0_col5\" class=\"col_heading level0 col5\" >Violence</th>\n",
       "      <th id=\"T_cff6b_level0_col6\" class=\"col_heading level0 col6\" >Age group</th>\n",
       "    </tr>\n",
       "    <tr>\n",
       "      <th class=\"index_name level0\" >SL. No</th>\n",
       "      <th class=\"blank col0\" >&nbsp;</th>\n",
       "      <th class=\"blank col1\" >&nbsp;</th>\n",
       "      <th class=\"blank col2\" >&nbsp;</th>\n",
       "      <th class=\"blank col3\" >&nbsp;</th>\n",
       "      <th class=\"blank col4\" >&nbsp;</th>\n",
       "      <th class=\"blank col5\" >&nbsp;</th>\n",
       "      <th class=\"blank col6\" >&nbsp;</th>\n",
       "    </tr>\n",
       "  </thead>\n",
       "  <tbody>\n",
       "    <tr>\n",
       "      <th id=\"T_cff6b_level0_row0\" class=\"row_heading level0 row0\" >1</th>\n",
       "      <td id=\"T_cff6b_row0_col0\" class=\"data row0 col0\" >30</td>\n",
       "      <td id=\"T_cff6b_row0_col1\" class=\"data row0 col1\" >secondary</td>\n",
       "      <td id=\"T_cff6b_row0_col2\" class=\"data row0 col2\" >unemployed</td>\n",
       "      <td id=\"T_cff6b_row0_col3\" class=\"data row0 col3\" >0</td>\n",
       "      <td id=\"T_cff6b_row0_col4\" class=\"data row0 col4\" >married</td>\n",
       "      <td id=\"T_cff6b_row0_col5\" class=\"data row0 col5\" >yes</td>\n",
       "      <td id=\"T_cff6b_row0_col6\" class=\"data row0 col6\" >25 ≤ age < 35</td>\n",
       "    </tr>\n",
       "    <tr>\n",
       "      <th id=\"T_cff6b_level0_row1\" class=\"row_heading level0 row1\" >2</th>\n",
       "      <td id=\"T_cff6b_row1_col0\" class=\"data row1 col0\" >47</td>\n",
       "      <td id=\"T_cff6b_row1_col1\" class=\"data row1 col1\" >tertiary</td>\n",
       "      <td id=\"T_cff6b_row1_col2\" class=\"data row1 col2\" >unemployed</td>\n",
       "      <td id=\"T_cff6b_row1_col3\" class=\"data row1 col3\" >0</td>\n",
       "      <td id=\"T_cff6b_row1_col4\" class=\"data row1 col4\" >married</td>\n",
       "      <td id=\"T_cff6b_row1_col5\" class=\"data row1 col5\" >no</td>\n",
       "      <td id=\"T_cff6b_row1_col6\" class=\"data row1 col6\" >45 ≤ age < 55</td>\n",
       "    </tr>\n",
       "    <tr>\n",
       "      <th id=\"T_cff6b_level0_row2\" class=\"row_heading level0 row2\" >3</th>\n",
       "      <td id=\"T_cff6b_row2_col0\" class=\"data row2 col0\" >24</td>\n",
       "      <td id=\"T_cff6b_row2_col1\" class=\"data row2 col1\" >tertiary</td>\n",
       "      <td id=\"T_cff6b_row2_col2\" class=\"data row2 col2\" >unemployed</td>\n",
       "      <td id=\"T_cff6b_row2_col3\" class=\"data row2 col3\" >0</td>\n",
       "      <td id=\"T_cff6b_row2_col4\" class=\"data row2 col4\" >unmarred</td>\n",
       "      <td id=\"T_cff6b_row2_col5\" class=\"data row2 col5\" >no</td>\n",
       "      <td id=\"T_cff6b_row2_col6\" class=\"data row2 col6\" >15 ≤ age < 25</td>\n",
       "    </tr>\n",
       "    <tr>\n",
       "      <th id=\"T_cff6b_level0_row3\" class=\"row_heading level0 row3\" >4</th>\n",
       "      <td id=\"T_cff6b_row3_col0\" class=\"data row3 col0\" >22</td>\n",
       "      <td id=\"T_cff6b_row3_col1\" class=\"data row3 col1\" >tertiary</td>\n",
       "      <td id=\"T_cff6b_row3_col2\" class=\"data row3 col2\" >unemployed</td>\n",
       "      <td id=\"T_cff6b_row3_col3\" class=\"data row3 col3\" >0</td>\n",
       "      <td id=\"T_cff6b_row3_col4\" class=\"data row3 col4\" >unmarred</td>\n",
       "      <td id=\"T_cff6b_row3_col5\" class=\"data row3 col5\" >no</td>\n",
       "      <td id=\"T_cff6b_row3_col6\" class=\"data row3 col6\" >15 ≤ age < 25</td>\n",
       "    </tr>\n",
       "    <tr>\n",
       "      <th id=\"T_cff6b_level0_row4\" class=\"row_heading level0 row4\" >5</th>\n",
       "      <td id=\"T_cff6b_row4_col0\" class=\"data row4 col0\" >50</td>\n",
       "      <td id=\"T_cff6b_row4_col1\" class=\"data row4 col1\" >primary</td>\n",
       "      <td id=\"T_cff6b_row4_col2\" class=\"data row4 col2\" >unemployed</td>\n",
       "      <td id=\"T_cff6b_row4_col3\" class=\"data row4 col3\" >0</td>\n",
       "      <td id=\"T_cff6b_row4_col4\" class=\"data row4 col4\" >married</td>\n",
       "      <td id=\"T_cff6b_row4_col5\" class=\"data row4 col5\" >yes</td>\n",
       "      <td id=\"T_cff6b_row4_col6\" class=\"data row4 col6\" >45 ≤ age < 55</td>\n",
       "    </tr>\n",
       "  </tbody>\n",
       "</table>\n"
      ],
      "text/plain": [
       "<pandas.io.formats.style.Styler at 0x73fe1a028140>"
      ]
     },
     "execution_count": 16,
     "metadata": {},
     "output_type": "execute_result"
    }
   ],
   "source": [
    "dataframe.head().style.set_properties()"
   ]
  },
  {
   "cell_type": "code",
   "execution_count": 18,
   "id": "d1e5b5f0-5678-464c-bc79-c3316272fd07",
   "metadata": {},
   "outputs": [],
   "source": [
    "dataframe.to_csv('DV_cleaned_data.csv', index=False)"
   ]
  }
 ],
 "metadata": {
  "kernelspec": {
   "display_name": "Python 3 (ipykernel)",
   "language": "python",
   "name": "python3"
  },
  "language_info": {
   "codemirror_mode": {
    "name": "ipython",
    "version": 3
   },
   "file_extension": ".py",
   "mimetype": "text/x-python",
   "name": "python",
   "nbconvert_exporter": "python",
   "pygments_lexer": "ipython3",
   "version": "3.12.9"
  }
 },
 "nbformat": 4,
 "nbformat_minor": 5
}
